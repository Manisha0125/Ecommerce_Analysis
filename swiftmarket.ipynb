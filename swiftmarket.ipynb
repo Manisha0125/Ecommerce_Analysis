{
 "cells": [
  {
   "cell_type": "code",
   "execution_count": 1,
   "metadata": {},
   "outputs": [],
   "source": [
    "import os\n",
    "\n",
    "import mysql.connector\n",
    "from dotenv import load_dotenv\n",
    "import pandas as pd\n",
    "import numpy as np\n",
    "import matplotlib.pyplot as plt\n",
    "import seaborn as sns\n",
    "from Sql_functions import read_query\n",
    "\n"
   ]
  },
  {
   "cell_type": "code",
   "execution_count": 2,
   "metadata": {},
   "outputs": [
    {
     "data": {
      "text/html": [
       "<div>\n",
       "<style scoped>\n",
       "    .dataframe tbody tr th:only-of-type {\n",
       "        vertical-align: middle;\n",
       "    }\n",
       "\n",
       "    .dataframe tbody tr th {\n",
       "        vertical-align: top;\n",
       "    }\n",
       "\n",
       "    .dataframe thead th {\n",
       "        text-align: right;\n",
       "    }\n",
       "</style>\n",
       "<table border=\"1\" class=\"dataframe\">\n",
       "  <thead>\n",
       "    <tr style=\"text-align: right;\">\n",
       "      <th></th>\n",
       "      <th>CustomerID</th>\n",
       "      <th>FirstName</th>\n",
       "      <th>LastName</th>\n",
       "      <th>Email</th>\n",
       "      <th>Phone</th>\n",
       "      <th>Address</th>\n",
       "      <th>State</th>\n",
       "    </tr>\n",
       "  </thead>\n",
       "  <tbody>\n",
       "    <tr>\n",
       "      <th>0</th>\n",
       "      <td>C-2023-100-1</td>\n",
       "      <td>Mahika</td>\n",
       "      <td>Sunder</td>\n",
       "      <td>MahikaSunder_11@zmail.com</td>\n",
       "      <td>03412176590</td>\n",
       "      <td>H.No. 155, Chana</td>\n",
       "      <td>Assam</td>\n",
       "    </tr>\n",
       "    <tr>\n",
       "      <th>1</th>\n",
       "      <td>C-2023-100-10</td>\n",
       "      <td>Zeeshan</td>\n",
       "      <td>Vasa</td>\n",
       "      <td>ZeeshanVasa_1@zmail.com</td>\n",
       "      <td>+911151051656</td>\n",
       "      <td>52, Roy Nagar</td>\n",
       "      <td>Tripura</td>\n",
       "    </tr>\n",
       "    <tr>\n",
       "      <th>2</th>\n",
       "      <td>C-2023-100-100</td>\n",
       "      <td>Aaina</td>\n",
       "      <td>Sachdeva</td>\n",
       "      <td>AainaSachdeva_9@zmail.com</td>\n",
       "      <td>+918834507719</td>\n",
       "      <td>75/92, Kade Marg</td>\n",
       "      <td>Nagaland</td>\n",
       "    </tr>\n",
       "    <tr>\n",
       "      <th>3</th>\n",
       "      <td>C-2023-100-101</td>\n",
       "      <td>Shray</td>\n",
       "      <td>Bajwa</td>\n",
       "      <td>ShrayBajwa_11@zmail.com</td>\n",
       "      <td>07410498662</td>\n",
       "      <td>45, Bora Ganj</td>\n",
       "      <td>Manipur</td>\n",
       "    </tr>\n",
       "    <tr>\n",
       "      <th>4</th>\n",
       "      <td>C-2023-100-102</td>\n",
       "      <td>Navya</td>\n",
       "      <td>Dash</td>\n",
       "      <td>NavyaDash_5@zmail.com</td>\n",
       "      <td>+917644200850</td>\n",
       "      <td>70/782\\nBahl Road</td>\n",
       "      <td>Kerala</td>\n",
       "    </tr>\n",
       "    <tr>\n",
       "      <th>...</th>\n",
       "      <td>...</td>\n",
       "      <td>...</td>\n",
       "      <td>...</td>\n",
       "      <td>...</td>\n",
       "      <td>...</td>\n",
       "      <td>...</td>\n",
       "      <td>...</td>\n",
       "    </tr>\n",
       "    <tr>\n",
       "      <th>195</th>\n",
       "      <td>C-2023-100-95</td>\n",
       "      <td>Taran</td>\n",
       "      <td>Din</td>\n",
       "      <td>TaranDin_12@zmail.com</td>\n",
       "      <td>6834976149</td>\n",
       "      <td>H.No. 18\\nArora Marg</td>\n",
       "      <td>Karnataka</td>\n",
       "    </tr>\n",
       "    <tr>\n",
       "      <th>196</th>\n",
       "      <td>C-2023-100-96</td>\n",
       "      <td>Bhamini</td>\n",
       "      <td>Gara</td>\n",
       "      <td>BhaminiGara_1@zmail.com</td>\n",
       "      <td>+913844979166</td>\n",
       "      <td>H.No. 22\\nBrahmbhatt Zila</td>\n",
       "      <td>Chhattisgarh</td>\n",
       "    </tr>\n",
       "    <tr>\n",
       "      <th>197</th>\n",
       "      <td>C-2023-100-97</td>\n",
       "      <td>Hunar</td>\n",
       "      <td>Kothari</td>\n",
       "      <td>HunarKothari_13@zmail.com</td>\n",
       "      <td>+910694175434</td>\n",
       "      <td>84, Madan Chowk</td>\n",
       "      <td>Kerala</td>\n",
       "    </tr>\n",
       "    <tr>\n",
       "      <th>198</th>\n",
       "      <td>C-2023-100-98</td>\n",
       "      <td>Riaan</td>\n",
       "      <td>Wali</td>\n",
       "      <td>RiaanWali_11@zmail.com</td>\n",
       "      <td>6570105054</td>\n",
       "      <td>98\\nComar Zila</td>\n",
       "      <td>Telangana</td>\n",
       "    </tr>\n",
       "    <tr>\n",
       "      <th>199</th>\n",
       "      <td>C-2023-100-99</td>\n",
       "      <td>Navya</td>\n",
       "      <td>Chana</td>\n",
       "      <td>NavyaChana_4@zmail.com</td>\n",
       "      <td>00686138096</td>\n",
       "      <td>58/50\\nDasgupta Road</td>\n",
       "      <td>Tamil Nadu</td>\n",
       "    </tr>\n",
       "  </tbody>\n",
       "</table>\n",
       "<p>200 rows × 7 columns</p>\n",
       "</div>"
      ],
      "text/plain": [
       "         CustomerID FirstName  LastName                      Email  \\\n",
       "0      C-2023-100-1    Mahika    Sunder  MahikaSunder_11@zmail.com   \n",
       "1     C-2023-100-10   Zeeshan      Vasa    ZeeshanVasa_1@zmail.com   \n",
       "2    C-2023-100-100     Aaina  Sachdeva  AainaSachdeva_9@zmail.com   \n",
       "3    C-2023-100-101     Shray     Bajwa    ShrayBajwa_11@zmail.com   \n",
       "4    C-2023-100-102     Navya      Dash      NavyaDash_5@zmail.com   \n",
       "..              ...       ...       ...                        ...   \n",
       "195   C-2023-100-95     Taran       Din      TaranDin_12@zmail.com   \n",
       "196   C-2023-100-96   Bhamini      Gara    BhaminiGara_1@zmail.com   \n",
       "197   C-2023-100-97     Hunar   Kothari  HunarKothari_13@zmail.com   \n",
       "198   C-2023-100-98     Riaan      Wali     RiaanWali_11@zmail.com   \n",
       "199   C-2023-100-99     Navya     Chana     NavyaChana_4@zmail.com   \n",
       "\n",
       "             Phone                    Address         State  \n",
       "0      03412176590           H.No. 155, Chana         Assam  \n",
       "1    +911151051656              52, Roy Nagar       Tripura  \n",
       "2    +918834507719           75/92, Kade Marg      Nagaland  \n",
       "3      07410498662              45, Bora Ganj       Manipur  \n",
       "4    +917644200850          70/782\\nBahl Road        Kerala  \n",
       "..             ...                        ...           ...  \n",
       "195     6834976149       H.No. 18\\nArora Marg     Karnataka  \n",
       "196  +913844979166  H.No. 22\\nBrahmbhatt Zila  Chhattisgarh  \n",
       "197  +910694175434            84, Madan Chowk        Kerala  \n",
       "198     6570105054             98\\nComar Zila     Telangana  \n",
       "199    00686138096       58/50\\nDasgupta Road    Tamil Nadu  \n",
       "\n",
       "[200 rows x 7 columns]"
      ]
     },
     "execution_count": 2,
     "metadata": {},
     "output_type": "execute_result"
    }
   ],
   "source": [
    "query = 'select *from customers;'\n",
    "read_query(query)"
   ]
  },
  {
   "cell_type": "code",
   "execution_count": 3,
   "metadata": {},
   "outputs": [],
   "source": [
    "load_dotenv()\n",
    "\n",
    "user = os.getenv('USER')\n",
    "password = os. getenv('PASSWORD')\n",
    "host = os.getenv('HOST')\n",
    "database= 'swiftmarket'"
   ]
  },
  {
   "cell_type": "code",
   "execution_count": 4,
   "metadata": {},
   "outputs": [],
   "source": [
    "connection = mysql.connector.connect(user=user,\n",
    "                                      password=password,\n",
    "                                      host=host,\n",
    "                                      database=database)\n",
    "\n",
    "cursor = connection.cursor()"
   ]
  },
  {
   "cell_type": "code",
   "execution_count": 5,
   "metadata": {},
   "outputs": [
    {
     "data": {
      "text/plain": [
       "True"
      ]
     },
     "execution_count": 5,
     "metadata": {},
     "output_type": "execute_result"
    }
   ],
   "source": [
    "connection.is_connected()"
   ]
  },
  {
   "cell_type": "code",
   "execution_count": 6,
   "metadata": {},
   "outputs": [],
   "source": [
    "# query = '''show tables'''\n",
    "# cursor.execute(query)\n",
    "# rows = cursor.fetchall()\n",
    "# for row in rows:\n",
    "#     print(row)"
   ]
  },
  {
   "cell_type": "code",
   "execution_count": 7,
   "metadata": {},
   "outputs": [],
   "source": [
    "# Dimension tables: all tables contianing primary keys abd connected to fact tables\n",
    "# Fact tables :e.g sales data\n",
    "\n",
    "\n",
    "# query = '''select * from salesdata limit 5;'''\n",
    "# cursor.execute(query)\n",
    "# rows = cursor.fetchall()\n",
    "# for row in rows:\n",
    "#     print(row)"
   ]
  },
  {
   "cell_type": "code",
   "execution_count": 8,
   "metadata": {},
   "outputs": [],
   "source": [
    "# cursor.column_names"
   ]
  },
  {
   "cell_type": "code",
   "execution_count": 9,
   "metadata": {},
   "outputs": [],
   "source": [
    "# pd.DataFrame(data=rows, columns=cursor.column_names)"
   ]
  },
  {
   "cell_type": "code",
   "execution_count": 10,
   "metadata": {},
   "outputs": [],
   "source": [
    "# def read_query(query):\n",
    "#    cursor.execute(query)\n",
    "#    rows = cursor.fetchall()\n",
    "#    return pd.DataFrame(data=rows, columns=cursor.column_names) \n"
   ]
  },
  {
   "cell_type": "code",
   "execution_count": 11,
   "metadata": {},
   "outputs": [
    {
     "data": {
      "text/html": [
       "<div>\n",
       "<style scoped>\n",
       "    .dataframe tbody tr th:only-of-type {\n",
       "        vertical-align: middle;\n",
       "    }\n",
       "\n",
       "    .dataframe tbody tr th {\n",
       "        vertical-align: top;\n",
       "    }\n",
       "\n",
       "    .dataframe thead th {\n",
       "        text-align: right;\n",
       "    }\n",
       "</style>\n",
       "<table border=\"1\" class=\"dataframe\">\n",
       "  <thead>\n",
       "    <tr style=\"text-align: right;\">\n",
       "      <th></th>\n",
       "      <th>CustomerID</th>\n",
       "      <th>FirstName</th>\n",
       "      <th>LastName</th>\n",
       "      <th>Email</th>\n",
       "      <th>Phone</th>\n",
       "      <th>Address</th>\n",
       "      <th>State</th>\n",
       "    </tr>\n",
       "  </thead>\n",
       "  <tbody>\n",
       "    <tr>\n",
       "      <th>0</th>\n",
       "      <td>C-2023-100-1</td>\n",
       "      <td>Mahika</td>\n",
       "      <td>Sunder</td>\n",
       "      <td>MahikaSunder_11@zmail.com</td>\n",
       "      <td>03412176590</td>\n",
       "      <td>H.No. 155, Chana</td>\n",
       "      <td>Assam</td>\n",
       "    </tr>\n",
       "    <tr>\n",
       "      <th>1</th>\n",
       "      <td>C-2023-100-10</td>\n",
       "      <td>Zeeshan</td>\n",
       "      <td>Vasa</td>\n",
       "      <td>ZeeshanVasa_1@zmail.com</td>\n",
       "      <td>+911151051656</td>\n",
       "      <td>52, Roy Nagar</td>\n",
       "      <td>Tripura</td>\n",
       "    </tr>\n",
       "    <tr>\n",
       "      <th>2</th>\n",
       "      <td>C-2023-100-100</td>\n",
       "      <td>Aaina</td>\n",
       "      <td>Sachdeva</td>\n",
       "      <td>AainaSachdeva_9@zmail.com</td>\n",
       "      <td>+918834507719</td>\n",
       "      <td>75/92, Kade Marg</td>\n",
       "      <td>Nagaland</td>\n",
       "    </tr>\n",
       "    <tr>\n",
       "      <th>3</th>\n",
       "      <td>C-2023-100-101</td>\n",
       "      <td>Shray</td>\n",
       "      <td>Bajwa</td>\n",
       "      <td>ShrayBajwa_11@zmail.com</td>\n",
       "      <td>07410498662</td>\n",
       "      <td>45, Bora Ganj</td>\n",
       "      <td>Manipur</td>\n",
       "    </tr>\n",
       "    <tr>\n",
       "      <th>4</th>\n",
       "      <td>C-2023-100-102</td>\n",
       "      <td>Navya</td>\n",
       "      <td>Dash</td>\n",
       "      <td>NavyaDash_5@zmail.com</td>\n",
       "      <td>+917644200850</td>\n",
       "      <td>70/782\\nBahl Road</td>\n",
       "      <td>Kerala</td>\n",
       "    </tr>\n",
       "  </tbody>\n",
       "</table>\n",
       "</div>"
      ],
      "text/plain": [
       "       CustomerID FirstName  LastName                      Email  \\\n",
       "0    C-2023-100-1    Mahika    Sunder  MahikaSunder_11@zmail.com   \n",
       "1   C-2023-100-10   Zeeshan      Vasa    ZeeshanVasa_1@zmail.com   \n",
       "2  C-2023-100-100     Aaina  Sachdeva  AainaSachdeva_9@zmail.com   \n",
       "3  C-2023-100-101     Shray     Bajwa    ShrayBajwa_11@zmail.com   \n",
       "4  C-2023-100-102     Navya      Dash      NavyaDash_5@zmail.com   \n",
       "\n",
       "           Phone            Address     State  \n",
       "0    03412176590   H.No. 155, Chana     Assam  \n",
       "1  +911151051656      52, Roy Nagar   Tripura  \n",
       "2  +918834507719   75/92, Kade Marg  Nagaland  \n",
       "3    07410498662      45, Bora Ganj   Manipur  \n",
       "4  +917644200850  70/782\\nBahl Road    Kerala  "
      ]
     },
     "execution_count": 11,
     "metadata": {},
     "output_type": "execute_result"
    }
   ],
   "source": [
    "query = '''select * from customers limit 5;'''\n",
    "read_query(query)"
   ]
  },
  {
   "cell_type": "code",
   "execution_count": 12,
   "metadata": {},
   "outputs": [
    {
     "data": {
      "text/html": [
       "<div>\n",
       "<style scoped>\n",
       "    .dataframe tbody tr th:only-of-type {\n",
       "        vertical-align: middle;\n",
       "    }\n",
       "\n",
       "    .dataframe tbody tr th {\n",
       "        vertical-align: top;\n",
       "    }\n",
       "\n",
       "    .dataframe thead th {\n",
       "        text-align: right;\n",
       "    }\n",
       "</style>\n",
       "<table border=\"1\" class=\"dataframe\">\n",
       "  <thead>\n",
       "    <tr style=\"text-align: right;\">\n",
       "      <th></th>\n",
       "      <th>saledate</th>\n",
       "      <th>firstname</th>\n",
       "      <th>totalprice</th>\n",
       "    </tr>\n",
       "  </thead>\n",
       "  <tbody>\n",
       "    <tr>\n",
       "      <th>0</th>\n",
       "      <td>2023-01-01</td>\n",
       "      <td>Miraan</td>\n",
       "      <td>8630.00</td>\n",
       "    </tr>\n",
       "    <tr>\n",
       "      <th>1</th>\n",
       "      <td>2023-01-01</td>\n",
       "      <td>Eva</td>\n",
       "      <td>159724.00</td>\n",
       "    </tr>\n",
       "    <tr>\n",
       "      <th>2</th>\n",
       "      <td>2023-01-01</td>\n",
       "      <td>Kashvi</td>\n",
       "      <td>139084.00</td>\n",
       "    </tr>\n",
       "    <tr>\n",
       "      <th>3</th>\n",
       "      <td>2023-01-01</td>\n",
       "      <td>Shalv</td>\n",
       "      <td>208626.00</td>\n",
       "    </tr>\n",
       "    <tr>\n",
       "      <th>4</th>\n",
       "      <td>2023-01-01</td>\n",
       "      <td>Heer</td>\n",
       "      <td>79387.00</td>\n",
       "    </tr>\n",
       "    <tr>\n",
       "      <th>...</th>\n",
       "      <td>...</td>\n",
       "      <td>...</td>\n",
       "      <td>...</td>\n",
       "    </tr>\n",
       "    <tr>\n",
       "      <th>11996</th>\n",
       "      <td>2023-12-30</td>\n",
       "      <td>Azad</td>\n",
       "      <td>111075.00</td>\n",
       "    </tr>\n",
       "    <tr>\n",
       "      <th>11997</th>\n",
       "      <td>2023-12-30</td>\n",
       "      <td>Vidur</td>\n",
       "      <td>58785.00</td>\n",
       "    </tr>\n",
       "    <tr>\n",
       "      <th>11998</th>\n",
       "      <td>2023-12-30</td>\n",
       "      <td>Reyansh</td>\n",
       "      <td>9599.00</td>\n",
       "    </tr>\n",
       "    <tr>\n",
       "      <th>11999</th>\n",
       "      <td>2023-12-30</td>\n",
       "      <td>Sahil</td>\n",
       "      <td>99402.00</td>\n",
       "    </tr>\n",
       "    <tr>\n",
       "      <th>12000</th>\n",
       "      <td>2023-12-30</td>\n",
       "      <td>Inaaya</td>\n",
       "      <td>340156.00</td>\n",
       "    </tr>\n",
       "  </tbody>\n",
       "</table>\n",
       "<p>12001 rows × 3 columns</p>\n",
       "</div>"
      ],
      "text/plain": [
       "         saledate firstname totalprice\n",
       "0      2023-01-01    Miraan    8630.00\n",
       "1      2023-01-01       Eva  159724.00\n",
       "2      2023-01-01    Kashvi  139084.00\n",
       "3      2023-01-01     Shalv  208626.00\n",
       "4      2023-01-01      Heer   79387.00\n",
       "...           ...       ...        ...\n",
       "11996  2023-12-30      Azad  111075.00\n",
       "11997  2023-12-30     Vidur   58785.00\n",
       "11998  2023-12-30   Reyansh    9599.00\n",
       "11999  2023-12-30     Sahil   99402.00\n",
       "12000  2023-12-30   Inaaya   340156.00\n",
       "\n",
       "[12001 rows x 3 columns]"
      ]
     },
     "execution_count": 12,
     "metadata": {},
     "output_type": "execute_result"
    }
   ],
   "source": [
    "query = '''select s. saledate, c.firstname, s. totalprice\n",
    "from salesdata s\n",
    "join customers c\n",
    "on s. customerid= c.customerid\n",
    "order by s. saledate;'''\n",
    "read_query(query)"
   ]
  },
  {
   "cell_type": "code",
   "execution_count": 13,
   "metadata": {},
   "outputs": [
    {
     "data": {
      "text/html": [
       "<div>\n",
       "<style scoped>\n",
       "    .dataframe tbody tr th:only-of-type {\n",
       "        vertical-align: middle;\n",
       "    }\n",
       "\n",
       "    .dataframe tbody tr th {\n",
       "        vertical-align: top;\n",
       "    }\n",
       "\n",
       "    .dataframe thead th {\n",
       "        text-align: right;\n",
       "    }\n",
       "</style>\n",
       "<table border=\"1\" class=\"dataframe\">\n",
       "  <thead>\n",
       "    <tr style=\"text-align: right;\">\n",
       "      <th></th>\n",
       "      <th>Tables_in_swiftmarket</th>\n",
       "    </tr>\n",
       "  </thead>\n",
       "  <tbody>\n",
       "    <tr>\n",
       "      <th>0</th>\n",
       "      <td>categories</td>\n",
       "    </tr>\n",
       "    <tr>\n",
       "      <th>1</th>\n",
       "      <td>customers</td>\n",
       "    </tr>\n",
       "    <tr>\n",
       "      <th>2</th>\n",
       "      <td>employees</td>\n",
       "    </tr>\n",
       "    <tr>\n",
       "      <th>3</th>\n",
       "      <td>salesdata</td>\n",
       "    </tr>\n",
       "    <tr>\n",
       "      <th>4</th>\n",
       "      <td>subcategories</td>\n",
       "    </tr>\n",
       "    <tr>\n",
       "      <th>5</th>\n",
       "      <td>suppliers</td>\n",
       "    </tr>\n",
       "  </tbody>\n",
       "</table>\n",
       "</div>"
      ],
      "text/plain": [
       "  Tables_in_swiftmarket\n",
       "0            categories\n",
       "1             customers\n",
       "2             employees\n",
       "3             salesdata\n",
       "4         subcategories\n",
       "5             suppliers"
      ]
     },
     "execution_count": 13,
     "metadata": {},
     "output_type": "execute_result"
    }
   ],
   "source": [
    "query = 'show tables ;'\n",
    "read_query(query)"
   ]
  },
  {
   "cell_type": "markdown",
   "metadata": {},
   "source": [
    "JION TABLES"
   ]
  },
  {
   "cell_type": "code",
   "execution_count": 14,
   "metadata": {},
   "outputs": [
    {
     "data": {
      "text/html": [
       "<div>\n",
       "<style scoped>\n",
       "    .dataframe tbody tr th:only-of-type {\n",
       "        vertical-align: middle;\n",
       "    }\n",
       "\n",
       "    .dataframe tbody tr th {\n",
       "        vertical-align: top;\n",
       "    }\n",
       "\n",
       "    .dataframe thead th {\n",
       "        text-align: right;\n",
       "    }\n",
       "</style>\n",
       "<table border=\"1\" class=\"dataframe\">\n",
       "  <thead>\n",
       "    <tr style=\"text-align: right;\">\n",
       "      <th></th>\n",
       "      <th>SaleID</th>\n",
       "      <th>CustomerID</th>\n",
       "      <th>SubcatID</th>\n",
       "      <th>EmployeeID</th>\n",
       "      <th>SaleDate</th>\n",
       "      <th>Quantity</th>\n",
       "      <th>TotalPrice</th>\n",
       "    </tr>\n",
       "  </thead>\n",
       "  <tbody>\n",
       "    <tr>\n",
       "      <th>0</th>\n",
       "      <td>23000</td>\n",
       "      <td>C-2023-100-12</td>\n",
       "      <td>6002</td>\n",
       "      <td>1100</td>\n",
       "      <td>2023-05-02</td>\n",
       "      <td>2</td>\n",
       "      <td>176432.00</td>\n",
       "    </tr>\n",
       "    <tr>\n",
       "      <th>1</th>\n",
       "      <td>23001</td>\n",
       "      <td>C-2023-100-141</td>\n",
       "      <td>6029</td>\n",
       "      <td>1115</td>\n",
       "      <td>2023-12-26</td>\n",
       "      <td>2</td>\n",
       "      <td>47172.00</td>\n",
       "    </tr>\n",
       "    <tr>\n",
       "      <th>2</th>\n",
       "      <td>23002</td>\n",
       "      <td>C-2023-100-86</td>\n",
       "      <td>6029</td>\n",
       "      <td>1035</td>\n",
       "      <td>2023-03-26</td>\n",
       "      <td>2</td>\n",
       "      <td>47172.00</td>\n",
       "    </tr>\n",
       "  </tbody>\n",
       "</table>\n",
       "</div>"
      ],
      "text/plain": [
       "   SaleID      CustomerID  SubcatID  EmployeeID    SaleDate  Quantity  \\\n",
       "0   23000   C-2023-100-12      6002        1100  2023-05-02         2   \n",
       "1   23001  C-2023-100-141      6029        1115  2023-12-26         2   \n",
       "2   23002   C-2023-100-86      6029        1035  2023-03-26         2   \n",
       "\n",
       "  TotalPrice  \n",
       "0  176432.00  \n",
       "1   47172.00  \n",
       "2   47172.00  "
      ]
     },
     "execution_count": 14,
     "metadata": {},
     "output_type": "execute_result"
    }
   ],
   "source": [
    "query = 'select * from salesdata limit 3;'\n",
    "read_query(query)"
   ]
  },
  {
   "cell_type": "code",
   "execution_count": 15,
   "metadata": {},
   "outputs": [
    {
     "data": {
      "text/html": [
       "<div>\n",
       "<style scoped>\n",
       "    .dataframe tbody tr th:only-of-type {\n",
       "        vertical-align: middle;\n",
       "    }\n",
       "\n",
       "    .dataframe tbody tr th {\n",
       "        vertical-align: top;\n",
       "    }\n",
       "\n",
       "    .dataframe thead th {\n",
       "        text-align: right;\n",
       "    }\n",
       "</style>\n",
       "<table border=\"1\" class=\"dataframe\">\n",
       "  <thead>\n",
       "    <tr style=\"text-align: right;\">\n",
       "      <th></th>\n",
       "      <th>customerid</th>\n",
       "      <th>firstname</th>\n",
       "      <th>saledate</th>\n",
       "      <th>totalprice</th>\n",
       "    </tr>\n",
       "  </thead>\n",
       "  <tbody>\n",
       "    <tr>\n",
       "      <th>0</th>\n",
       "      <td>C-2023-100-1</td>\n",
       "      <td>Mahika</td>\n",
       "      <td>2023-07-22</td>\n",
       "      <td>67312.00</td>\n",
       "    </tr>\n",
       "    <tr>\n",
       "      <th>1</th>\n",
       "      <td>C-2023-100-1</td>\n",
       "      <td>Mahika</td>\n",
       "      <td>2023-05-23</td>\n",
       "      <td>176466.00</td>\n",
       "    </tr>\n",
       "    <tr>\n",
       "      <th>2</th>\n",
       "      <td>C-2023-100-1</td>\n",
       "      <td>Mahika</td>\n",
       "      <td>2023-11-26</td>\n",
       "      <td>190332.00</td>\n",
       "    </tr>\n",
       "    <tr>\n",
       "      <th>3</th>\n",
       "      <td>C-2023-100-1</td>\n",
       "      <td>Mahika</td>\n",
       "      <td>2023-03-31</td>\n",
       "      <td>205080.00</td>\n",
       "    </tr>\n",
       "    <tr>\n",
       "      <th>4</th>\n",
       "      <td>C-2023-100-1</td>\n",
       "      <td>Mahika</td>\n",
       "      <td>2023-11-22</td>\n",
       "      <td>14174.00</td>\n",
       "    </tr>\n",
       "  </tbody>\n",
       "</table>\n",
       "</div>"
      ],
      "text/plain": [
       "     customerid firstname    saledate totalprice\n",
       "0  C-2023-100-1    Mahika  2023-07-22   67312.00\n",
       "1  C-2023-100-1    Mahika  2023-05-23  176466.00\n",
       "2  C-2023-100-1    Mahika  2023-11-26  190332.00\n",
       "3  C-2023-100-1    Mahika  2023-03-31  205080.00\n",
       "4  C-2023-100-1    Mahika  2023-11-22   14174.00"
      ]
     },
     "execution_count": 15,
     "metadata": {},
     "output_type": "execute_result"
    }
   ],
   "source": [
    "query = \"\"\"select s. customerid, c. firstname, s. saledate, s. totalprice  \n",
    "from salesdata s\n",
    "join customers c\n",
    "on s. customerid = c. customerid\n",
    "limit 5;\"\"\"\n",
    "\n",
    "read_query(query)"
   ]
  },
  {
   "cell_type": "code",
   "execution_count": 16,
   "metadata": {},
   "outputs": [],
   "source": [
    "query = \"\"\"\n",
    "select t. customerid, c. firstname, t. expenditure\n",
    "from\n",
    "(select customerid,\n",
    "sum(totalprice) as expenditure \n",
    "from salesdata\n",
    "group by customerid) t \n",
    "join customers c\n",
    "on t. customerid = c.customerid\n",
    "order by t. expenditure desc\n",
    "limit 10;\"\"\"\n",
    "\n",
    "top_annual_customers = read_query(query)"
   ]
  },
  {
   "cell_type": "code",
   "execution_count": 17,
   "metadata": {},
   "outputs": [
    {
     "data": {
      "text/html": [
       "<div>\n",
       "<style scoped>\n",
       "    .dataframe tbody tr th:only-of-type {\n",
       "        vertical-align: middle;\n",
       "    }\n",
       "\n",
       "    .dataframe tbody tr th {\n",
       "        vertical-align: top;\n",
       "    }\n",
       "\n",
       "    .dataframe thead th {\n",
       "        text-align: right;\n",
       "    }\n",
       "</style>\n",
       "<table border=\"1\" class=\"dataframe\">\n",
       "  <thead>\n",
       "    <tr style=\"text-align: right;\">\n",
       "      <th></th>\n",
       "      <th>customerid</th>\n",
       "      <th>firstname</th>\n",
       "      <th>expenditure</th>\n",
       "    </tr>\n",
       "  </thead>\n",
       "  <tbody>\n",
       "    <tr>\n",
       "      <th>0</th>\n",
       "      <td>C-2023-100-13</td>\n",
       "      <td>Veer</td>\n",
       "      <td>13016064.00</td>\n",
       "    </tr>\n",
       "    <tr>\n",
       "      <th>1</th>\n",
       "      <td>C-2023-100-94</td>\n",
       "      <td>Priyansh</td>\n",
       "      <td>12629337.00</td>\n",
       "    </tr>\n",
       "    <tr>\n",
       "      <th>2</th>\n",
       "      <td>C-2023-100-57</td>\n",
       "      <td>Riya</td>\n",
       "      <td>12599608.00</td>\n",
       "    </tr>\n",
       "    <tr>\n",
       "      <th>3</th>\n",
       "      <td>C-2023-100-58</td>\n",
       "      <td>Vanya</td>\n",
       "      <td>12455437.00</td>\n",
       "    </tr>\n",
       "    <tr>\n",
       "      <th>4</th>\n",
       "      <td>C-2023-100-88</td>\n",
       "      <td>Dhruv</td>\n",
       "      <td>12280916.00</td>\n",
       "    </tr>\n",
       "    <tr>\n",
       "      <th>5</th>\n",
       "      <td>C-2023-100-165</td>\n",
       "      <td>Tarini</td>\n",
       "      <td>12130487.00</td>\n",
       "    </tr>\n",
       "    <tr>\n",
       "      <th>6</th>\n",
       "      <td>C-2023-100-197</td>\n",
       "      <td>Yuvraj</td>\n",
       "      <td>11868602.00</td>\n",
       "    </tr>\n",
       "    <tr>\n",
       "      <th>7</th>\n",
       "      <td>C-2023-100-199</td>\n",
       "      <td>Rhea</td>\n",
       "      <td>11704275.00</td>\n",
       "    </tr>\n",
       "    <tr>\n",
       "      <th>8</th>\n",
       "      <td>C-2023-100-196</td>\n",
       "      <td>Darshit</td>\n",
       "      <td>11520699.00</td>\n",
       "    </tr>\n",
       "    <tr>\n",
       "      <th>9</th>\n",
       "      <td>C-2023-100-75</td>\n",
       "      <td>Prerak</td>\n",
       "      <td>11442527.00</td>\n",
       "    </tr>\n",
       "  </tbody>\n",
       "</table>\n",
       "</div>"
      ],
      "text/plain": [
       "       customerid firstname  expenditure\n",
       "0   C-2023-100-13      Veer  13016064.00\n",
       "1   C-2023-100-94  Priyansh  12629337.00\n",
       "2   C-2023-100-57      Riya  12599608.00\n",
       "3   C-2023-100-58     Vanya  12455437.00\n",
       "4   C-2023-100-88     Dhruv  12280916.00\n",
       "5  C-2023-100-165    Tarini  12130487.00\n",
       "6  C-2023-100-197   Yuvraj   11868602.00\n",
       "7  C-2023-100-199      Rhea  11704275.00\n",
       "8  C-2023-100-196   Darshit  11520699.00\n",
       "9   C-2023-100-75    Prerak  11442527.00"
      ]
     },
     "execution_count": 17,
     "metadata": {},
     "output_type": "execute_result"
    }
   ],
   "source": [
    "top_annual_customers"
   ]
  },
  {
   "cell_type": "code",
   "execution_count": 18,
   "metadata": {},
   "outputs": [
    {
     "name": "stdout",
     "output_type": "stream",
     "text": [
      "<class 'pandas.core.frame.DataFrame'>\n",
      "RangeIndex: 10 entries, 0 to 9\n",
      "Data columns (total 3 columns):\n",
      " #   Column       Non-Null Count  Dtype \n",
      "---  ------       --------------  ----- \n",
      " 0   customerid   10 non-null     object\n",
      " 1   firstname    10 non-null     object\n",
      " 2   expenditure  10 non-null     object\n",
      "dtypes: object(3)\n",
      "memory usage: 372.0+ bytes\n"
     ]
    }
   ],
   "source": [
    "top_annual_customers.info()"
   ]
  },
  {
   "cell_type": "code",
   "execution_count": 41,
   "metadata": {},
   "outputs": [],
   "source": [
    "top_annual_customers['expenditure'] = top_annual_customers['expenditure'].astype(float)"
   ]
  },
  {
   "cell_type": "code",
   "execution_count": 42,
   "metadata": {},
   "outputs": [
    {
     "name": "stdout",
     "output_type": "stream",
     "text": [
      "<class 'pandas.core.frame.DataFrame'>\n",
      "RangeIndex: 10 entries, 0 to 9\n",
      "Data columns (total 3 columns):\n",
      " #   Column       Non-Null Count  Dtype  \n",
      "---  ------       --------------  -----  \n",
      " 0   customerid   10 non-null     object \n",
      " 1   firstname    10 non-null     object \n",
      " 2   expenditure  10 non-null     float64\n",
      "dtypes: float64(1), object(2)\n",
      "memory usage: 372.0+ bytes\n"
     ]
    }
   ],
   "source": [
    "top_annual_customers.info()"
   ]
  },
  {
   "cell_type": "code",
   "execution_count": 43,
   "metadata": {},
   "outputs": [],
   "source": [
    "customers_names = top_annual_customers['firstname'].values"
   ]
  },
  {
   "cell_type": "code",
   "execution_count": 44,
   "metadata": {},
   "outputs": [
    {
     "data": {
      "text/plain": [
       "array(['Veer', 'Priyansh', 'Riya', 'Vanya', 'Dhruv', 'Tarini', 'Yuvraj ',\n",
       "       'Rhea', 'Darshit', 'Prerak'], dtype=object)"
      ]
     },
     "execution_count": 44,
     "metadata": {},
     "output_type": "execute_result"
    }
   ],
   "source": [
    "customers_names"
   ]
  },
  {
   "cell_type": "code",
   "execution_count": 21,
   "metadata": {},
   "outputs": [],
   "source": [
    "customer_exp = top_annual_customers['expenditure'].values"
   ]
  },
  {
   "cell_type": "code",
   "execution_count": 22,
   "metadata": {},
   "outputs": [],
   "source": [
    "customer_name = top_annual_customers['firstname']. values"
   ]
  },
  {
   "cell_type": "code",
   "execution_count": 34,
   "metadata": {},
   "outputs": [
    {
     "data": {
      "text/plain": [
       "array([13016064., 12629337., 12599608., 12455437., 12280916., 12130487.,\n",
       "       11868602., 11704275., 11520699., 11442527.])"
      ]
     },
     "execution_count": 34,
     "metadata": {},
     "output_type": "execute_result"
    }
   ],
   "source": [
    "customer_exp"
   ]
  },
  {
   "cell_type": "code",
   "execution_count": 53,
   "metadata": {},
   "outputs": [
    {
     "data": {
      "text/plain": [
       "Text(0, 0.5, 'Expenditure')"
      ]
     },
     "execution_count": 53,
     "metadata": {},
     "output_type": "execute_result"
    },
    {
     "data": {
      "image/png": "[encoded data removed]",
      "text/plain": [
       "<Figure size 1000x500 with 1 Axes>"
      ]
     },
     "metadata": {},
     "output_type": "display_data"
    }
   ],
   "source": [
    "plt.figure(figsize=(10,5))\n",
    "plt.bar(height= customer_exp, x=customers_names,color=\"skyblue\")\n",
    "plt.title(\"Top 10 Annual Customer's\")\n",
    "\n",
    "plt.xticks(rotation=30)\n",
    "plt.xlabel(\"Customer's Names\")\n",
    "plt.ylabel(\"Expenditure\")"
   ]
  },
  {
   "cell_type": "code",
   "execution_count": 24,
   "metadata": {},
   "outputs": [
    {
     "data": {
      "text/html": [
       "<div>\n",
       "<style scoped>\n",
       "    .dataframe tbody tr th:only-of-type {\n",
       "        vertical-align: middle;\n",
       "    }\n",
       "\n",
       "    .dataframe tbody tr th {\n",
       "        vertical-align: top;\n",
       "    }\n",
       "\n",
       "    .dataframe thead th {\n",
       "        text-align: right;\n",
       "    }\n",
       "</style>\n",
       "<table border=\"1\" class=\"dataframe\">\n",
       "  <thead>\n",
       "    <tr style=\"text-align: right;\">\n",
       "      <th></th>\n",
       "      <th>Tables_in_swiftmarket</th>\n",
       "    </tr>\n",
       "  </thead>\n",
       "  <tbody>\n",
       "    <tr>\n",
       "      <th>0</th>\n",
       "      <td>categories</td>\n",
       "    </tr>\n",
       "    <tr>\n",
       "      <th>1</th>\n",
       "      <td>customers</td>\n",
       "    </tr>\n",
       "    <tr>\n",
       "      <th>2</th>\n",
       "      <td>employees</td>\n",
       "    </tr>\n",
       "    <tr>\n",
       "      <th>3</th>\n",
       "      <td>salesdata</td>\n",
       "    </tr>\n",
       "    <tr>\n",
       "      <th>4</th>\n",
       "      <td>subcategories</td>\n",
       "    </tr>\n",
       "    <tr>\n",
       "      <th>5</th>\n",
       "      <td>suppliers</td>\n",
       "    </tr>\n",
       "  </tbody>\n",
       "</table>\n",
       "</div>"
      ],
      "text/plain": [
       "  Tables_in_swiftmarket\n",
       "0            categories\n",
       "1             customers\n",
       "2             employees\n",
       "3             salesdata\n",
       "4         subcategories\n",
       "5             suppliers"
      ]
     },
     "execution_count": 24,
     "metadata": {},
     "output_type": "execute_result"
    }
   ],
   "source": [
    "query = 'show tables;'\n",
    "read_query(query)"
   ]
  },
  {
   "cell_type": "code",
   "execution_count": 25,
   "metadata": {},
   "outputs": [
    {
     "data": {
      "text/html": [
       "<div>\n",
       "<style scoped>\n",
       "    .dataframe tbody tr th:only-of-type {\n",
       "        vertical-align: middle;\n",
       "    }\n",
       "\n",
       "    .dataframe tbody tr th {\n",
       "        vertical-align: top;\n",
       "    }\n",
       "\n",
       "    .dataframe thead th {\n",
       "        text-align: right;\n",
       "    }\n",
       "</style>\n",
       "<table border=\"1\" class=\"dataframe\">\n",
       "  <thead>\n",
       "    <tr style=\"text-align: right;\">\n",
       "      <th></th>\n",
       "      <th>SaleID</th>\n",
       "      <th>CustomerID</th>\n",
       "      <th>SubcatID</th>\n",
       "      <th>EmployeeID</th>\n",
       "      <th>SaleDate</th>\n",
       "      <th>Quantity</th>\n",
       "      <th>TotalPrice</th>\n",
       "    </tr>\n",
       "  </thead>\n",
       "  <tbody>\n",
       "    <tr>\n",
       "      <th>0</th>\n",
       "      <td>23000</td>\n",
       "      <td>C-2023-100-12</td>\n",
       "      <td>6002</td>\n",
       "      <td>1100</td>\n",
       "      <td>2023-05-02</td>\n",
       "      <td>2</td>\n",
       "      <td>176432.00</td>\n",
       "    </tr>\n",
       "    <tr>\n",
       "      <th>1</th>\n",
       "      <td>23001</td>\n",
       "      <td>C-2023-100-141</td>\n",
       "      <td>6029</td>\n",
       "      <td>1115</td>\n",
       "      <td>2023-12-26</td>\n",
       "      <td>2</td>\n",
       "      <td>47172.00</td>\n",
       "    </tr>\n",
       "    <tr>\n",
       "      <th>2</th>\n",
       "      <td>23002</td>\n",
       "      <td>C-2023-100-86</td>\n",
       "      <td>6029</td>\n",
       "      <td>1035</td>\n",
       "      <td>2023-03-26</td>\n",
       "      <td>2</td>\n",
       "      <td>47172.00</td>\n",
       "    </tr>\n",
       "    <tr>\n",
       "      <th>3</th>\n",
       "      <td>23003</td>\n",
       "      <td>C-2023-100-72</td>\n",
       "      <td>6006</td>\n",
       "      <td>1016</td>\n",
       "      <td>2023-08-01</td>\n",
       "      <td>2</td>\n",
       "      <td>117644.00</td>\n",
       "    </tr>\n",
       "    <tr>\n",
       "      <th>4</th>\n",
       "      <td>23004</td>\n",
       "      <td>C-2023-100-142</td>\n",
       "      <td>6030</td>\n",
       "      <td>1067</td>\n",
       "      <td>2023-03-06</td>\n",
       "      <td>5</td>\n",
       "      <td>336560.00</td>\n",
       "    </tr>\n",
       "    <tr>\n",
       "      <th>5</th>\n",
       "      <td>23005</td>\n",
       "      <td>C-2023-100-72</td>\n",
       "      <td>6015</td>\n",
       "      <td>1012</td>\n",
       "      <td>2023-11-22</td>\n",
       "      <td>5</td>\n",
       "      <td>396935.00</td>\n",
       "    </tr>\n",
       "    <tr>\n",
       "      <th>6</th>\n",
       "      <td>23006</td>\n",
       "      <td>C-2023-100-78</td>\n",
       "      <td>6015</td>\n",
       "      <td>1044</td>\n",
       "      <td>2023-10-26</td>\n",
       "      <td>5</td>\n",
       "      <td>396935.00</td>\n",
       "    </tr>\n",
       "    <tr>\n",
       "      <th>7</th>\n",
       "      <td>23007</td>\n",
       "      <td>C-2023-100-36</td>\n",
       "      <td>6017</td>\n",
       "      <td>1018</td>\n",
       "      <td>2023-03-29</td>\n",
       "      <td>5</td>\n",
       "      <td>295510.00</td>\n",
       "    </tr>\n",
       "    <tr>\n",
       "      <th>8</th>\n",
       "      <td>23008</td>\n",
       "      <td>C-2023-100-147</td>\n",
       "      <td>6030</td>\n",
       "      <td>1049</td>\n",
       "      <td>2023-01-17</td>\n",
       "      <td>3</td>\n",
       "      <td>201936.00</td>\n",
       "    </tr>\n",
       "    <tr>\n",
       "      <th>9</th>\n",
       "      <td>23009</td>\n",
       "      <td>C-2023-100-7</td>\n",
       "      <td>6019</td>\n",
       "      <td>1047</td>\n",
       "      <td>2023-07-19</td>\n",
       "      <td>4</td>\n",
       "      <td>56188.00</td>\n",
       "    </tr>\n",
       "  </tbody>\n",
       "</table>\n",
       "</div>"
      ],
      "text/plain": [
       "   SaleID      CustomerID  SubcatID  EmployeeID    SaleDate  Quantity  \\\n",
       "0   23000   C-2023-100-12      6002        1100  2023-05-02         2   \n",
       "1   23001  C-2023-100-141      6029        1115  2023-12-26         2   \n",
       "2   23002   C-2023-100-86      6029        1035  2023-03-26         2   \n",
       "3   23003   C-2023-100-72      6006        1016  2023-08-01         2   \n",
       "4   23004  C-2023-100-142      6030        1067  2023-03-06         5   \n",
       "5   23005   C-2023-100-72      6015        1012  2023-11-22         5   \n",
       "6   23006   C-2023-100-78      6015        1044  2023-10-26         5   \n",
       "7   23007   C-2023-100-36      6017        1018  2023-03-29         5   \n",
       "8   23008  C-2023-100-147      6030        1049  2023-01-17         3   \n",
       "9   23009    C-2023-100-7      6019        1047  2023-07-19         4   \n",
       "\n",
       "  TotalPrice  \n",
       "0  176432.00  \n",
       "1   47172.00  \n",
       "2   47172.00  \n",
       "3  117644.00  \n",
       "4  336560.00  \n",
       "5  396935.00  \n",
       "6  396935.00  \n",
       "7  295510.00  \n",
       "8  201936.00  \n",
       "9   56188.00  "
      ]
     },
     "execution_count": 25,
     "metadata": {},
     "output_type": "execute_result"
    }
   ],
   "source": [
    "query ='select * from salesdata limit 10;'\n",
    "read_query(query)"
   ]
  },
  {
   "cell_type": "code",
   "execution_count": 26,
   "metadata": {},
   "outputs": [],
   "source": [
    "query = ''' select\n",
    "    monthname(s.saledate) as monthname,\n",
    "      e.firstname,\n",
    "      sum(s. totalprice) as totalsales\n",
    "from salesdata s\n",
    "      join employees e\n",
    "      on s.employeeid=e.employeeid\n",
    " where monthname (saledate)='January'\n",
    " group by  monthname(s.saledate),   e.firstname\n",
    " order by totalsales desc\n",
    " limit 10;'''\n",
    "\n",
    "month_total_price =read_query(query)"
   ]
  },
  {
   "cell_type": "code",
   "execution_count": 27,
   "metadata": {},
   "outputs": [
    {
     "name": "stdout",
     "output_type": "stream",
     "text": [
      "<class 'pandas.core.frame.DataFrame'>\n",
      "RangeIndex: 10 entries, 0 to 9\n",
      "Data columns (total 3 columns):\n",
      " #   Column      Non-Null Count  Dtype \n",
      "---  ------      --------------  ----- \n",
      " 0   monthname   10 non-null     object\n",
      " 1   firstname   10 non-null     object\n",
      " 2   totalsales  10 non-null     object\n",
      "dtypes: object(3)\n",
      "memory usage: 372.0+ bytes\n"
     ]
    }
   ],
   "source": [
    "month_total_price.info()"
   ]
  },
  {
   "cell_type": "code",
   "execution_count": 28,
   "metadata": {},
   "outputs": [],
   "source": [
    "month_price = month_total_price['totasales'] = month_total_price['totalsales'].astype(float)"
   ]
  },
  {
   "cell_type": "code",
   "execution_count": 29,
   "metadata": {},
   "outputs": [],
   "source": [
    "customer_name = top_annual_customers['firstname']. values"
   ]
  },
  {
   "cell_type": "code",
   "execution_count": 30,
   "metadata": {},
   "outputs": [
    {
     "name": "stdout",
     "output_type": "stream",
     "text": [
      "<class 'pandas.core.frame.DataFrame'>\n",
      "RangeIndex: 10 entries, 0 to 9\n",
      "Data columns (total 4 columns):\n",
      " #   Column      Non-Null Count  Dtype  \n",
      "---  ------      --------------  -----  \n",
      " 0   monthname   10 non-null     object \n",
      " 1   firstname   10 non-null     object \n",
      " 2   totalsales  10 non-null     object \n",
      " 3   totasales   10 non-null     float64\n",
      "dtypes: float64(1), object(3)\n",
      "memory usage: 452.0+ bytes\n"
     ]
    }
   ],
   "source": [
    "month_total_price.info()"
   ]
  },
  {
   "cell_type": "code",
   "execution_count": 31,
   "metadata": {},
   "outputs": [
    {
     "data": {
      "text/plain": [
       "<BarContainer object of 10 artists>"
      ]
     },
     "execution_count": 31,
     "metadata": {},
     "output_type": "execute_result"
    },
    {
     "data": {
      "image/png": "[encoded data removed]",
      "text/plain": [
       "<Figure size 1000x500 with 1 Axes>"
      ]
     },
     "metadata": {},
     "output_type": "display_data"
    }
   ],
   "source": [
    "plt.figure(figsize=(10,5))\n",
    "plt.bar(height=month_price,x=customer_name)"
   ]
  },
  {
   "cell_type": "code",
   "execution_count": 54,
   "metadata": {},
   "outputs": [
    {
     "data": {
      "text/html": [
       "<div>\n",
       "<style scoped>\n",
       "    .dataframe tbody tr th:only-of-type {\n",
       "        vertical-align: middle;\n",
       "    }\n",
       "\n",
       "    .dataframe tbody tr th {\n",
       "        vertical-align: top;\n",
       "    }\n",
       "\n",
       "    .dataframe thead th {\n",
       "        text-align: right;\n",
       "    }\n",
       "</style>\n",
       "<table border=\"1\" class=\"dataframe\">\n",
       "  <thead>\n",
       "    <tr style=\"text-align: right;\">\n",
       "      <th></th>\n",
       "      <th>SaleID</th>\n",
       "      <th>CustomerID</th>\n",
       "      <th>SubcatID</th>\n",
       "      <th>EmployeeID</th>\n",
       "      <th>SaleDate</th>\n",
       "      <th>Quantity</th>\n",
       "      <th>TotalPrice</th>\n",
       "    </tr>\n",
       "  </thead>\n",
       "  <tbody>\n",
       "    <tr>\n",
       "      <th>0</th>\n",
       "      <td>23000</td>\n",
       "      <td>C-2023-100-12</td>\n",
       "      <td>6002</td>\n",
       "      <td>1100</td>\n",
       "      <td>2023-05-02</td>\n",
       "      <td>2</td>\n",
       "      <td>176432.00</td>\n",
       "    </tr>\n",
       "    <tr>\n",
       "      <th>1</th>\n",
       "      <td>23001</td>\n",
       "      <td>C-2023-100-141</td>\n",
       "      <td>6029</td>\n",
       "      <td>1115</td>\n",
       "      <td>2023-12-26</td>\n",
       "      <td>2</td>\n",
       "      <td>47172.00</td>\n",
       "    </tr>\n",
       "    <tr>\n",
       "      <th>2</th>\n",
       "      <td>23002</td>\n",
       "      <td>C-2023-100-86</td>\n",
       "      <td>6029</td>\n",
       "      <td>1035</td>\n",
       "      <td>2023-03-26</td>\n",
       "      <td>2</td>\n",
       "      <td>47172.00</td>\n",
       "    </tr>\n",
       "    <tr>\n",
       "      <th>3</th>\n",
       "      <td>23003</td>\n",
       "      <td>C-2023-100-72</td>\n",
       "      <td>6006</td>\n",
       "      <td>1016</td>\n",
       "      <td>2023-08-01</td>\n",
       "      <td>2</td>\n",
       "      <td>117644.00</td>\n",
       "    </tr>\n",
       "    <tr>\n",
       "      <th>4</th>\n",
       "      <td>23004</td>\n",
       "      <td>C-2023-100-142</td>\n",
       "      <td>6030</td>\n",
       "      <td>1067</td>\n",
       "      <td>2023-03-06</td>\n",
       "      <td>5</td>\n",
       "      <td>336560.00</td>\n",
       "    </tr>\n",
       "    <tr>\n",
       "      <th>5</th>\n",
       "      <td>23005</td>\n",
       "      <td>C-2023-100-72</td>\n",
       "      <td>6015</td>\n",
       "      <td>1012</td>\n",
       "      <td>2023-11-22</td>\n",
       "      <td>5</td>\n",
       "      <td>396935.00</td>\n",
       "    </tr>\n",
       "    <tr>\n",
       "      <th>6</th>\n",
       "      <td>23006</td>\n",
       "      <td>C-2023-100-78</td>\n",
       "      <td>6015</td>\n",
       "      <td>1044</td>\n",
       "      <td>2023-10-26</td>\n",
       "      <td>5</td>\n",
       "      <td>396935.00</td>\n",
       "    </tr>\n",
       "    <tr>\n",
       "      <th>7</th>\n",
       "      <td>23007</td>\n",
       "      <td>C-2023-100-36</td>\n",
       "      <td>6017</td>\n",
       "      <td>1018</td>\n",
       "      <td>2023-03-29</td>\n",
       "      <td>5</td>\n",
       "      <td>295510.00</td>\n",
       "    </tr>\n",
       "    <tr>\n",
       "      <th>8</th>\n",
       "      <td>23008</td>\n",
       "      <td>C-2023-100-147</td>\n",
       "      <td>6030</td>\n",
       "      <td>1049</td>\n",
       "      <td>2023-01-17</td>\n",
       "      <td>3</td>\n",
       "      <td>201936.00</td>\n",
       "    </tr>\n",
       "    <tr>\n",
       "      <th>9</th>\n",
       "      <td>23009</td>\n",
       "      <td>C-2023-100-7</td>\n",
       "      <td>6019</td>\n",
       "      <td>1047</td>\n",
       "      <td>2023-07-19</td>\n",
       "      <td>4</td>\n",
       "      <td>56188.00</td>\n",
       "    </tr>\n",
       "  </tbody>\n",
       "</table>\n",
       "</div>"
      ],
      "text/plain": [
       "   SaleID      CustomerID  SubcatID  EmployeeID    SaleDate  Quantity  \\\n",
       "0   23000   C-2023-100-12      6002        1100  2023-05-02         2   \n",
       "1   23001  C-2023-100-141      6029        1115  2023-12-26         2   \n",
       "2   23002   C-2023-100-86      6029        1035  2023-03-26         2   \n",
       "3   23003   C-2023-100-72      6006        1016  2023-08-01         2   \n",
       "4   23004  C-2023-100-142      6030        1067  2023-03-06         5   \n",
       "5   23005   C-2023-100-72      6015        1012  2023-11-22         5   \n",
       "6   23006   C-2023-100-78      6015        1044  2023-10-26         5   \n",
       "7   23007   C-2023-100-36      6017        1018  2023-03-29         5   \n",
       "8   23008  C-2023-100-147      6030        1049  2023-01-17         3   \n",
       "9   23009    C-2023-100-7      6019        1047  2023-07-19         4   \n",
       "\n",
       "  TotalPrice  \n",
       "0  176432.00  \n",
       "1   47172.00  \n",
       "2   47172.00  \n",
       "3  117644.00  \n",
       "4  336560.00  \n",
       "5  396935.00  \n",
       "6  396935.00  \n",
       "7  295510.00  \n",
       "8  201936.00  \n",
       "9   56188.00  "
      ]
     },
     "execution_count": 54,
     "metadata": {},
     "output_type": "execute_result"
    }
   ],
   "source": [
    "query = 'select * from salesdata limit 10;'\n",
    "read_query(query=query)"
   ]
  },
  {
   "cell_type": "code",
   "execution_count": 55,
   "metadata": {},
   "outputs": [],
   "source": [
    "query ='''select monthname(s.saledate) ,e.firstname ,sum(s.TotalPrice) as totalsales\n",
    "from salesdata s\n",
    "join employees e\n",
    "on s.EmployeeID = e.EmployeeID\n",
    "where monthname(s.saledate) =\"january\"\n",
    "group by monthname(s.saledate),e.firstname\n",
    "order by totalsales desc\n",
    "limit 10;'''\n",
    "\n",
    "df = read_query(query=query)"
   ]
  },
  {
   "cell_type": "code",
   "execution_count": 56,
   "metadata": {},
   "outputs": [
    {
     "data": {
      "text/plain": [
       "<bound method DataFrame.info of   monthname(s.saledate) firstname  totalsales\n",
       "0               January    Bhavin  5775952.00\n",
       "1               January    Nitara  5567036.00\n",
       "2               January      Myra  4888628.00\n",
       "3               January     Renee  3924716.00\n",
       "4               January     Shray  3719152.00\n",
       "5               January    Yuvaan  3348039.00\n",
       "6               January     Anika  3152408.00\n",
       "7               January     Kiaan  3136727.00\n",
       "8               January    Yasmin  3135779.00\n",
       "9               January     Hiran  3104523.00>"
      ]
     },
     "execution_count": 56,
     "metadata": {},
     "output_type": "execute_result"
    }
   ],
   "source": [
    "df.info"
   ]
  },
  {
   "cell_type": "code",
   "execution_count": 57,
   "metadata": {},
   "outputs": [],
   "source": [
    "firstname =df['firstname'].values"
   ]
  },
  {
   "cell_type": "code",
   "execution_count": 58,
   "metadata": {},
   "outputs": [
    {
     "data": {
      "text/plain": [
       "array([5775952., 5567036., 4888628., 3924716., 3719152., 3348039.,\n",
       "       3152408., 3136727., 3135779., 3104523.])"
      ]
     },
     "execution_count": 58,
     "metadata": {},
     "output_type": "execute_result"
    }
   ],
   "source": [
    "df['totalsales'] =df['totalsales'].values.astype(float)\n",
    "df['totalsales'].values"
   ]
  },
  {
   "cell_type": "code",
   "execution_count": 60,
   "metadata": {},
   "outputs": [
    {
     "data": {
      "text/plain": [
       "<BarContainer object of 10 artists>"
      ]
     },
     "execution_count": 60,
     "metadata": {},
     "output_type": "execute_result"
    },
    {
     "data": {
      "image/png": "[encoded data removed]",
      "text/plain": [
       "<Figure size 640x480 with 1 Axes>"
      ]
     },
     "metadata": {},
     "output_type": "display_data"
    }
   ],
   "source": [
    "plt\n",
    "plt.bar(height=df['totalsales'].values , x= firstname )"
   ]
  },
  {
   "cell_type": "code",
   "execution_count": 61,
   "metadata": {},
   "outputs": [],
   "source": [
    "cmap_value =np.linspace(0.3,1,10)\n",
    "cmap = plt.cm.BuGn(cmap_value)"
   ]
  },
  {
   "cell_type": "code",
   "execution_count": 78,
   "metadata": {},
   "outputs": [
    {
     "data": {
      "image/png": "[encoded data removed]",
      "text/plain": [
       "<Figure size 1200x500 with 1 Axes>"
      ]
     },
     "metadata": {},
     "output_type": "display_data"
    }
   ],
   "source": [
    "plt.figure(figsize=(12,5))\n",
    "plt.plot(firstname,df['totalsales'].values,marker = 'o',color = 'black')\n",
    "plt.bar(height=df['totalsales'].values , x= firstname , color ='skyblue' )\n",
    "\n",
    "plt.title('Top 10 Sellers')\n",
    "\n",
    "plt.xlabel('Employees Name',labelpad=15)\n",
    "plt.ylabel(\"Highest Selling\",labelpad=15)\n",
    "\n",
    "plt.xticks(rotation=45)\n",
    "\n",
    "for i in range(len(firstname)):\n",
    "    \n",
    "    plt.annotate(text=df['totalsales'].values[i],xy=(i,df['totalsales'].values[i]),\n",
    "                 horizontalalignment='center',\n",
    "                 verticalalignment='bottom') \n",
    "\n",
    "plt.show()"
   ]
  },
  {
   "cell_type": "code",
   "execution_count": 67,
   "metadata": {},
   "outputs": [
    {
     "data": {
      "text/html": [
       "<div>\n",
       "<style scoped>\n",
       "    .dataframe tbody tr th:only-of-type {\n",
       "        vertical-align: middle;\n",
       "    }\n",
       "\n",
       "    .dataframe tbody tr th {\n",
       "        vertical-align: top;\n",
       "    }\n",
       "\n",
       "    .dataframe thead th {\n",
       "        text-align: right;\n",
       "    }\n",
       "</style>\n",
       "<table border=\"1\" class=\"dataframe\">\n",
       "  <thead>\n",
       "    <tr style=\"text-align: right;\">\n",
       "      <th></th>\n",
       "      <th>monthname(s.saledate)</th>\n",
       "      <th>firstname</th>\n",
       "      <th>totalsales</th>\n",
       "    </tr>\n",
       "  </thead>\n",
       "  <tbody>\n",
       "    <tr>\n",
       "      <th>0</th>\n",
       "      <td>January</td>\n",
       "      <td>Bhavin</td>\n",
       "      <td>5775952.00</td>\n",
       "    </tr>\n",
       "    <tr>\n",
       "      <th>1</th>\n",
       "      <td>January</td>\n",
       "      <td>Nitara</td>\n",
       "      <td>5567036.00</td>\n",
       "    </tr>\n",
       "    <tr>\n",
       "      <th>2</th>\n",
       "      <td>January</td>\n",
       "      <td>Myra</td>\n",
       "      <td>4888628.00</td>\n",
       "    </tr>\n",
       "    <tr>\n",
       "      <th>3</th>\n",
       "      <td>January</td>\n",
       "      <td>Renee</td>\n",
       "      <td>3924716.00</td>\n",
       "    </tr>\n",
       "    <tr>\n",
       "      <th>4</th>\n",
       "      <td>January</td>\n",
       "      <td>Shray</td>\n",
       "      <td>3719152.00</td>\n",
       "    </tr>\n",
       "    <tr>\n",
       "      <th>5</th>\n",
       "      <td>January</td>\n",
       "      <td>Yuvaan</td>\n",
       "      <td>3348039.00</td>\n",
       "    </tr>\n",
       "    <tr>\n",
       "      <th>6</th>\n",
       "      <td>January</td>\n",
       "      <td>Anika</td>\n",
       "      <td>3152408.00</td>\n",
       "    </tr>\n",
       "    <tr>\n",
       "      <th>7</th>\n",
       "      <td>January</td>\n",
       "      <td>Kiaan</td>\n",
       "      <td>3136727.00</td>\n",
       "    </tr>\n",
       "    <tr>\n",
       "      <th>8</th>\n",
       "      <td>January</td>\n",
       "      <td>Yasmin</td>\n",
       "      <td>3135779.00</td>\n",
       "    </tr>\n",
       "    <tr>\n",
       "      <th>9</th>\n",
       "      <td>January</td>\n",
       "      <td>Hiran</td>\n",
       "      <td>3104523.00</td>\n",
       "    </tr>\n",
       "  </tbody>\n",
       "</table>\n",
       "</div>"
      ],
      "text/plain": [
       "  monthname(s.saledate) firstname  totalsales\n",
       "0               January    Bhavin  5775952.00\n",
       "1               January    Nitara  5567036.00\n",
       "2               January      Myra  4888628.00\n",
       "3               January     Renee  3924716.00\n",
       "4               January     Shray  3719152.00\n",
       "5               January    Yuvaan  3348039.00\n",
       "6               January     Anika  3152408.00\n",
       "7               January     Kiaan  3136727.00\n",
       "8               January    Yasmin  3135779.00\n",
       "9               January     Hiran  3104523.00"
      ]
     },
     "execution_count": 67,
     "metadata": {},
     "output_type": "execute_result"
    }
   ],
   "source": [
    "query ='''select monthname(s.saledate) ,e.firstname ,sum(s.TotalPrice) as totalsales\n",
    "from salesdata s\n",
    "join employees e\n",
    "on s.EmployeeID = e.EmployeeID\n",
    "where monthname(s.saledate) =\"january\"\n",
    "group by monthname(s.saledate),e.firstname\n",
    "order by totalsales desc\n",
    "limit 10;'''\n",
    "\n",
    "df = read_query(query=query)\n",
    "df"
   ]
  },
  {
   "cell_type": "code",
   "execution_count": 68,
   "metadata": {},
   "outputs": [],
   "source": [
    "firstname = df['firstname'].values"
   ]
  },
  {
   "cell_type": "code",
   "execution_count": 69,
   "metadata": {},
   "outputs": [
    {
     "data": {
      "text/plain": [
       "array([5775952., 5567036., 4888628., 3924716., 3719152., 3348039.,\n",
       "       3152408., 3136727., 3135779., 3104523.])"
      ]
     },
     "execution_count": 69,
     "metadata": {},
     "output_type": "execute_result"
    }
   ],
   "source": [
    "df['totalsales'] = df['totalsales'].astype(float)\n",
    "H_salary = df['totalsales'].values\n",
    "\n",
    "H_salary"
   ]
  },
  {
   "cell_type": "code",
   "execution_count": 79,
   "metadata": {},
   "outputs": [
    {
     "data": {
      "text/plain": [
       "<BarContainer object of 10 artists>"
      ]
     },
     "execution_count": 79,
     "metadata": {},
     "output_type": "execute_result"
    },
    {
     "data": {
      "image/png": "[encoded data removed]",
      "text/plain": [
       "<Figure size 640x480 with 1 Axes>"
      ]
     },
     "metadata": {},
     "output_type": "display_data"
    }
   ],
   "source": [
    "plt.barh(width= H_salary,y=firstname,color='skyblue')"
   ]
  },
  {
   "cell_type": "code",
   "execution_count": null,
   "metadata": {},
   "outputs": [],
   "source": [
    "query ='''select monthname(s.saledate) ,e.firstname ,sum(s.TotalPrice) as totalsales\n",
    "from salesdata s\n",
    "join employees e\n",
    "on s.EmployeeID = e.EmployeeID\n",
    "where monthname(s.saledate) =\"january\"\n",
    "group by monthname(s.saledate),e.firstname\n",
    "order by totalsales\n",
    "limit 10;'''"
   ]
  },
  {
   "cell_type": "code",
   "execution_count": 80,
   "metadata": {},
   "outputs": [
    {
     "data": {
      "text/html": [
       "<div>\n",
       "<style scoped>\n",
       "    .dataframe tbody tr th:only-of-type {\n",
       "        vertical-align: middle;\n",
       "    }\n",
       "\n",
       "    .dataframe tbody tr th {\n",
       "        vertical-align: top;\n",
       "    }\n",
       "\n",
       "    .dataframe thead th {\n",
       "        text-align: right;\n",
       "    }\n",
       "</style>\n",
       "<table border=\"1\" class=\"dataframe\">\n",
       "  <thead>\n",
       "    <tr style=\"text-align: right;\">\n",
       "      <th></th>\n",
       "      <th>monthname(s.saledate)</th>\n",
       "      <th>firstname</th>\n",
       "      <th>totalsales</th>\n",
       "    </tr>\n",
       "  </thead>\n",
       "  <tbody>\n",
       "    <tr>\n",
       "      <th>0</th>\n",
       "      <td>January</td>\n",
       "      <td>Bhavin</td>\n",
       "      <td>5775952.00</td>\n",
       "    </tr>\n",
       "    <tr>\n",
       "      <th>1</th>\n",
       "      <td>January</td>\n",
       "      <td>Nitara</td>\n",
       "      <td>5567036.00</td>\n",
       "    </tr>\n",
       "    <tr>\n",
       "      <th>2</th>\n",
       "      <td>January</td>\n",
       "      <td>Myra</td>\n",
       "      <td>4888628.00</td>\n",
       "    </tr>\n",
       "    <tr>\n",
       "      <th>3</th>\n",
       "      <td>January</td>\n",
       "      <td>Renee</td>\n",
       "      <td>3924716.00</td>\n",
       "    </tr>\n",
       "    <tr>\n",
       "      <th>4</th>\n",
       "      <td>January</td>\n",
       "      <td>Shray</td>\n",
       "      <td>3719152.00</td>\n",
       "    </tr>\n",
       "    <tr>\n",
       "      <th>5</th>\n",
       "      <td>January</td>\n",
       "      <td>Yuvaan</td>\n",
       "      <td>3348039.00</td>\n",
       "    </tr>\n",
       "    <tr>\n",
       "      <th>6</th>\n",
       "      <td>January</td>\n",
       "      <td>Anika</td>\n",
       "      <td>3152408.00</td>\n",
       "    </tr>\n",
       "    <tr>\n",
       "      <th>7</th>\n",
       "      <td>January</td>\n",
       "      <td>Kiaan</td>\n",
       "      <td>3136727.00</td>\n",
       "    </tr>\n",
       "    <tr>\n",
       "      <th>8</th>\n",
       "      <td>January</td>\n",
       "      <td>Yasmin</td>\n",
       "      <td>3135779.00</td>\n",
       "    </tr>\n",
       "    <tr>\n",
       "      <th>9</th>\n",
       "      <td>January</td>\n",
       "      <td>Hiran</td>\n",
       "      <td>3104523.00</td>\n",
       "    </tr>\n",
       "  </tbody>\n",
       "</table>\n",
       "</div>"
      ],
      "text/plain": [
       "  monthname(s.saledate) firstname  totalsales\n",
       "0               January    Bhavin  5775952.00\n",
       "1               January    Nitara  5567036.00\n",
       "2               January      Myra  4888628.00\n",
       "3               January     Renee  3924716.00\n",
       "4               January     Shray  3719152.00\n",
       "5               January    Yuvaan  3348039.00\n",
       "6               January     Anika  3152408.00\n",
       "7               January     Kiaan  3136727.00\n",
       "8               January    Yasmin  3135779.00\n",
       "9               January     Hiran  3104523.00"
      ]
     },
     "execution_count": 80,
     "metadata": {},
     "output_type": "execute_result"
    }
   ],
   "source": [
    "df = read_query(query=query)\n",
    "df"
   ]
  },
  {
   "cell_type": "code",
   "execution_count": 81,
   "metadata": {},
   "outputs": [],
   "source": [
    "firstname = df['firstname'].values\n",
    "df['totalsales'] = df['totalsales'].astype(float)\n",
    "H_salary = df['totalsales'].values\n"
   ]
  },
  {
   "cell_type": "code",
   "execution_count": 83,
   "metadata": {},
   "outputs": [],
   "source": [
    "cam_value = np.linspace(0.3,1,10)\n",
    "cm = plt.cm.YlGn(cam_value)"
   ]
  },
  {
   "cell_type": "code",
   "execution_count": 86,
   "metadata": {},
   "outputs": [],
   "source": [
    "f_title = {'family':'serif','size':'25','color':'black'}\n",
    "f_xlable = {'family':'serif','size':'15','color':'skyblue'}\n",
    "f_ylable = {'family':'serif','size':'15','color':'black'}"
   ]
  },
  {
   "cell_type": "code",
   "execution_count": 89,
   "metadata": {},
   "outputs": [
    {
     "data": {
      "image/png": "[encoded data removed]",
      "text/plain": [
       "<Figure size 1200x600 with 1 Axes>"
      ]
     },
     "metadata": {},
     "output_type": "display_data"
    }
   ],
   "source": [
    "\n",
    "plt.figure(figsize=(12,6))\n",
    "\n",
    "plt.plot(H_salary,firstname,color='black',marker='*')\n",
    "plt.barh(width= H_salary,y=firstname,color='skyblue')\n",
    "plt.title('Top 10 Sellers')\n",
    "plt.xlabel('Highest Selling')\n",
    "plt.ylabel('Employees Name')\n",
    "\n",
    "for i in range(len(H_salary)):\n",
    "    \n",
    "    plt.annotate(text=H_salary[i],xy=(H_salary[i]/2,i),color='white',\n",
    "                 horizontalalignment='center',\n",
    "                 verticalalignment='bottom') \n",
    "\n",
    "plt.show()"
   ]
  },
  {
   "cell_type": "code",
   "execution_count": 94,
   "metadata": {},
   "outputs": [
    {
     "data": {
      "image/png": "[encoded data removed]",
      "text/plain": [
       "<Figure size 1000x500 with 1 Axes>"
      ]
     },
     "metadata": {},
     "output_type": "display_data"
    }
   ],
   "source": [
    "font = {'family':'serif','color':'darkred','weight':'normal','size':16}\n",
    "fonty = {'family':'serif','color':'darkgreen','size':16}\n",
    "\n",
    "plt.figure(figsize=(10,5))\n",
    "plt.plot(firstname,H_salary,marker = 'o',color = 'black')\n",
    "plt.bar(height=H_salary , x= firstname , color =\"skyblue\" )\n",
    "\n",
    "\n",
    "plt.title('Top 10 Selling Employees')\n",
    "\n",
    "plt.xlabel('Employees Name')\n",
    "plt.ylabel(\"Highest Selling\")\n",
    "\n",
    "plt.xticks(rotation=45)\n",
    "\n",
    "for i in range(len(firstname)):\n",
    "    \n",
    "    plt.annotate(text=H_salary[i],xy=(i,H_salary[i]),\n",
    "                 horizontalalignment='center',\n",
    "                 verticalalignment='bottom') \n",
    "\n",
    "plt.show()"
   ]
  },
  {
   "cell_type": "code",
   "execution_count": null,
   "metadata": {},
   "outputs": [],
   "source": []
  },
  {
   "cell_type": "code",
   "execution_count": null,
   "metadata": {},
   "outputs": [],
   "source": []
  },
  {
   "cell_type": "code",
   "execution_count": null,
   "metadata": {},
   "outputs": [],
   "source": []
  },
  {
   "cell_type": "code",
   "execution_count": null,
   "metadata": {},
   "outputs": [],
   "source": []
  },
  {
   "cell_type": "code",
   "execution_count": null,
   "metadata": {},
   "outputs": [],
   "source": []
  }
 ],
 "metadata": {
  "kernelspec": {
   "display_name": "sqlproject",
   "language": "python",
   "name": "sqlproject"
  },
  "language_info": {
   "codemirror_mode": {
    "name": "ipython",
    "version": 3
   },
   "file_extension": ".py",
   "mimetype": "text/x-python",
   "name": "python",
   "nbconvert_exporter": "python",
   "pygments_lexer": "ipython3",
   "version": "3.11.9"
  }
 },
 "nbformat": 4,
 "nbformat_minor": 2
}
